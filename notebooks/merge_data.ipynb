{
 "cells": [
  {
   "cell_type": "code",
   "execution_count": 2,
   "metadata": {},
   "outputs": [],
   "source": [
    "import numpy as np"
   ]
  },
  {
   "cell_type": "code",
   "execution_count": 15,
   "metadata": {},
   "outputs": [
    {
     "name": "stdout",
     "output_type": "stream",
     "text": [
      "1000\n"
     ]
    }
   ],
   "source": [
    "# read chunks\n",
    "c1 = np.load(\"/home/ubuntu/data/data_0_1_2_6_7_8_9_10_11/chunks.npy\")\n",
    "c2 = np.load(\"/home/ubuntu/data/default_data/chunks.npy\")\n",
    "pad_size = c1.shape[1] - c2.shape[1]\n",
    "print(pad_size)"
   ]
  },
  {
   "cell_type": "code",
   "execution_count": 16,
   "metadata": {},
   "outputs": [
    {
     "data": {
      "text/plain": [
       "(1256434, 2400)"
      ]
     },
     "execution_count": 16,
     "metadata": {},
     "output_type": "execute_result"
    }
   ],
   "source": [
    "c2.shape"
   ]
  },
  {
   "cell_type": "code",
   "execution_count": 21,
   "metadata": {},
   "outputs": [
    {
     "data": {
      "text/plain": [
       "(1256434, 3400)"
      ]
     },
     "execution_count": 21,
     "metadata": {},
     "output_type": "execute_result"
    }
   ],
   "source": [
    "c2_pad = np.pad(c2,[[0,0],[0,pad_size]], mode='constant')\n",
    "c2_pad.shape"
   ]
  },
  {
   "cell_type": "code",
   "execution_count": 22,
   "metadata": {},
   "outputs": [
    {
     "name": "stdout",
     "output_type": "stream",
     "text": [
      "(1972834, 3400)\n",
      "(716400, 3400)\n",
      "(1256434, 3400)\n"
     ]
    }
   ],
   "source": [
    "c = np.concatenate((c1,c2_pad))\n",
    "print(c.shape)\n",
    "print(c1.shape)\n",
    "print(c2_pad.shape)\n",
    "np.save(\"/home/ubuntu/data/combined_data/chunks.npy\",c)"
   ]
  },
  {
   "cell_type": "code",
   "execution_count": 12,
   "metadata": {},
   "outputs": [
    {
     "name": "stdout",
     "output_type": "stream",
     "text": [
      "(1972834,)\n"
     ]
    }
   ],
   "source": [
    "# combine chunk lengths\n",
    "c1 = np.load(\"/home/ubuntu/data/data_0_1_2_6_7_8_9_10_11/chunk_lengths.npy\")\n",
    "c2 = np.load(\"/home/ubuntu/data/default_data/chunk_lengths.npy\")\n",
    "c = np.concatenate((c1,c2))\n",
    "print(c.shape)\n",
    "np.save(\"/home/ubuntu/data/combined_data/chunk_lengths.npy\",c)"
   ]
  },
  {
   "cell_type": "code",
   "execution_count": 6,
   "metadata": {},
   "outputs": [],
   "source": [
    "# combine chunk lengths\n",
    "c1 = np.load(\"/home/ubuntu/data/data_0_1_2_6_7_8_9_10_11/reference_lengths.npy\")\n",
    "c2 = np.load(\"/home/ubuntu/data/default_data/reference_lengths.npy\")\n",
    "c = np.concatenate((c1,c2))\n",
    "np.save(\"/home/ubuntu/data/combined_data/reference_lengths.npy\",c)"
   ]
  },
  {
   "cell_type": "code",
   "execution_count": 24,
   "metadata": {},
   "outputs": [
    {
     "name": "stdout",
     "output_type": "stream",
     "text": [
      "30\n",
      "(716400, 170)\n",
      "(1256434, 200)\n"
     ]
    }
   ],
   "source": [
    "# read chunks\n",
    "c1 = np.load(\"/home/ubuntu/data/data_0_1_2_6_7_8_9_10_11/references.npy\")\n",
    "c2 = np.load(\"/home/ubuntu/data/default_data/references.npy\")\n",
    "pad_size = c2.shape[1] - c1.shape[1]\n",
    "print(pad_size)\n",
    "print(c1.shape)\n",
    "print(c2.shape)\n"
   ]
  },
  {
   "cell_type": "code",
   "execution_count": 25,
   "metadata": {},
   "outputs": [
    {
     "name": "stdout",
     "output_type": "stream",
     "text": [
      "(1972834, 200)\n",
      "(716400, 200)\n",
      "(1256434, 200)\n"
     ]
    }
   ],
   "source": [
    "c1_pad = np.pad(c1,[[0,0],[0,pad_size]], mode='constant')\n",
    "c = np.concatenate((c1_pad,c2))\n",
    "print(c.shape)\n",
    "print(c1_pad.shape)\n",
    "print(c2.shape)\n",
    "np.save(\"/home/ubuntu/data/combined_data/references.npy\",c)"
   ]
  },
  {
   "cell_type": "code",
   "execution_count": null,
   "metadata": {},
   "outputs": [],
   "source": []
  }
 ],
 "metadata": {
  "kernelspec": {
   "display_name": "Environment (conda_anaconda3)",
   "language": "python",
   "name": "conda_anaconda3"
  },
  "language_info": {
   "codemirror_mode": {
    "name": "ipython",
    "version": 3
   },
   "file_extension": ".py",
   "mimetype": "text/x-python",
   "name": "python",
   "nbconvert_exporter": "python",
   "pygments_lexer": "ipython3",
   "version": "3.6.6"
  }
 },
 "nbformat": 4,
 "nbformat_minor": 2
}
